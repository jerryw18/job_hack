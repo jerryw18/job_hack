{
  "nbformat": 4,
  "nbformat_minor": 0,
  "metadata": {
    "colab": {
      "provenance": [],
      "include_colab_link": true
    },
    "kernelspec": {
      "name": "python3",
      "display_name": "Python 3"
    },
    "language_info": {
      "name": "python"
    },
    "widgets": {
      "application/vnd.jupyter.widget-state+json": {
        "e938b4f12e48496880f24e47aff7765a": {
          "model_module": "@jupyter-widgets/controls",
          "model_name": "HBoxModel",
          "model_module_version": "1.5.0",
          "state": {
            "_dom_classes": [],
            "_model_module": "@jupyter-widgets/controls",
            "_model_module_version": "1.5.0",
            "_model_name": "HBoxModel",
            "_view_count": null,
            "_view_module": "@jupyter-widgets/controls",
            "_view_module_version": "1.5.0",
            "_view_name": "HBoxView",
            "box_style": "",
            "children": [
              "IPY_MODEL_224c0617d13b4758b6274913016ba7ee",
              "IPY_MODEL_5c2ff30235f245c58fb003ae8502d672",
              "IPY_MODEL_546710d7abbf4d6db57134028355a8cd"
            ],
            "layout": "IPY_MODEL_0a923ecf979e4242af4a2b9f97679ceb"
          }
        },
        "224c0617d13b4758b6274913016ba7ee": {
          "model_module": "@jupyter-widgets/controls",
          "model_name": "HTMLModel",
          "model_module_version": "1.5.0",
          "state": {
            "_dom_classes": [],
            "_model_module": "@jupyter-widgets/controls",
            "_model_module_version": "1.5.0",
            "_model_name": "HTMLModel",
            "_view_count": null,
            "_view_module": "@jupyter-widgets/controls",
            "_view_module_version": "1.5.0",
            "_view_name": "HTMLView",
            "description": "",
            "description_tooltip": null,
            "layout": "IPY_MODEL_56b7447b2d43422f8fff8123a4994bfd",
            "placeholder": "​",
            "style": "IPY_MODEL_9b04f7a567ed4a42b0f054d37fc0404d",
            "value": "Parsing nodes: 100%"
          }
        },
        "5c2ff30235f245c58fb003ae8502d672": {
          "model_module": "@jupyter-widgets/controls",
          "model_name": "FloatProgressModel",
          "model_module_version": "1.5.0",
          "state": {
            "_dom_classes": [],
            "_model_module": "@jupyter-widgets/controls",
            "_model_module_version": "1.5.0",
            "_model_name": "FloatProgressModel",
            "_view_count": null,
            "_view_module": "@jupyter-widgets/controls",
            "_view_module_version": "1.5.0",
            "_view_name": "ProgressView",
            "bar_style": "success",
            "description": "",
            "description_tooltip": null,
            "layout": "IPY_MODEL_452dd55d844f4983bcf8a10721c96b63",
            "max": 3,
            "min": 0,
            "orientation": "horizontal",
            "style": "IPY_MODEL_8f95be75811e49cc87191eb3ded28bb2",
            "value": 3
          }
        },
        "546710d7abbf4d6db57134028355a8cd": {
          "model_module": "@jupyter-widgets/controls",
          "model_name": "HTMLModel",
          "model_module_version": "1.5.0",
          "state": {
            "_dom_classes": [],
            "_model_module": "@jupyter-widgets/controls",
            "_model_module_version": "1.5.0",
            "_model_name": "HTMLModel",
            "_view_count": null,
            "_view_module": "@jupyter-widgets/controls",
            "_view_module_version": "1.5.0",
            "_view_name": "HTMLView",
            "description": "",
            "description_tooltip": null,
            "layout": "IPY_MODEL_4fd4ff9a03344e29bff057631658c459",
            "placeholder": "​",
            "style": "IPY_MODEL_d08796a9230045f78c5613cabedacbfd",
            "value": " 3/3 [00:00&lt;00:00, 87.59it/s]"
          }
        },
        "0a923ecf979e4242af4a2b9f97679ceb": {
          "model_module": "@jupyter-widgets/base",
          "model_name": "LayoutModel",
          "model_module_version": "1.2.0",
          "state": {
            "_model_module": "@jupyter-widgets/base",
            "_model_module_version": "1.2.0",
            "_model_name": "LayoutModel",
            "_view_count": null,
            "_view_module": "@jupyter-widgets/base",
            "_view_module_version": "1.2.0",
            "_view_name": "LayoutView",
            "align_content": null,
            "align_items": null,
            "align_self": null,
            "border": null,
            "bottom": null,
            "display": null,
            "flex": null,
            "flex_flow": null,
            "grid_area": null,
            "grid_auto_columns": null,
            "grid_auto_flow": null,
            "grid_auto_rows": null,
            "grid_column": null,
            "grid_gap": null,
            "grid_row": null,
            "grid_template_areas": null,
            "grid_template_columns": null,
            "grid_template_rows": null,
            "height": null,
            "justify_content": null,
            "justify_items": null,
            "left": null,
            "margin": null,
            "max_height": null,
            "max_width": null,
            "min_height": null,
            "min_width": null,
            "object_fit": null,
            "object_position": null,
            "order": null,
            "overflow": null,
            "overflow_x": null,
            "overflow_y": null,
            "padding": null,
            "right": null,
            "top": null,
            "visibility": null,
            "width": null
          }
        },
        "56b7447b2d43422f8fff8123a4994bfd": {
          "model_module": "@jupyter-widgets/base",
          "model_name": "LayoutModel",
          "model_module_version": "1.2.0",
          "state": {
            "_model_module": "@jupyter-widgets/base",
            "_model_module_version": "1.2.0",
            "_model_name": "LayoutModel",
            "_view_count": null,
            "_view_module": "@jupyter-widgets/base",
            "_view_module_version": "1.2.0",
            "_view_name": "LayoutView",
            "align_content": null,
            "align_items": null,
            "align_self": null,
            "border": null,
            "bottom": null,
            "display": null,
            "flex": null,
            "flex_flow": null,
            "grid_area": null,
            "grid_auto_columns": null,
            "grid_auto_flow": null,
            "grid_auto_rows": null,
            "grid_column": null,
            "grid_gap": null,
            "grid_row": null,
            "grid_template_areas": null,
            "grid_template_columns": null,
            "grid_template_rows": null,
            "height": null,
            "justify_content": null,
            "justify_items": null,
            "left": null,
            "margin": null,
            "max_height": null,
            "max_width": null,
            "min_height": null,
            "min_width": null,
            "object_fit": null,
            "object_position": null,
            "order": null,
            "overflow": null,
            "overflow_x": null,
            "overflow_y": null,
            "padding": null,
            "right": null,
            "top": null,
            "visibility": null,
            "width": null
          }
        },
        "9b04f7a567ed4a42b0f054d37fc0404d": {
          "model_module": "@jupyter-widgets/controls",
          "model_name": "DescriptionStyleModel",
          "model_module_version": "1.5.0",
          "state": {
            "_model_module": "@jupyter-widgets/controls",
            "_model_module_version": "1.5.0",
            "_model_name": "DescriptionStyleModel",
            "_view_count": null,
            "_view_module": "@jupyter-widgets/base",
            "_view_module_version": "1.2.0",
            "_view_name": "StyleView",
            "description_width": ""
          }
        },
        "452dd55d844f4983bcf8a10721c96b63": {
          "model_module": "@jupyter-widgets/base",
          "model_name": "LayoutModel",
          "model_module_version": "1.2.0",
          "state": {
            "_model_module": "@jupyter-widgets/base",
            "_model_module_version": "1.2.0",
            "_model_name": "LayoutModel",
            "_view_count": null,
            "_view_module": "@jupyter-widgets/base",
            "_view_module_version": "1.2.0",
            "_view_name": "LayoutView",
            "align_content": null,
            "align_items": null,
            "align_self": null,
            "border": null,
            "bottom": null,
            "display": null,
            "flex": null,
            "flex_flow": null,
            "grid_area": null,
            "grid_auto_columns": null,
            "grid_auto_flow": null,
            "grid_auto_rows": null,
            "grid_column": null,
            "grid_gap": null,
            "grid_row": null,
            "grid_template_areas": null,
            "grid_template_columns": null,
            "grid_template_rows": null,
            "height": null,
            "justify_content": null,
            "justify_items": null,
            "left": null,
            "margin": null,
            "max_height": null,
            "max_width": null,
            "min_height": null,
            "min_width": null,
            "object_fit": null,
            "object_position": null,
            "order": null,
            "overflow": null,
            "overflow_x": null,
            "overflow_y": null,
            "padding": null,
            "right": null,
            "top": null,
            "visibility": null,
            "width": null
          }
        },
        "8f95be75811e49cc87191eb3ded28bb2": {
          "model_module": "@jupyter-widgets/controls",
          "model_name": "ProgressStyleModel",
          "model_module_version": "1.5.0",
          "state": {
            "_model_module": "@jupyter-widgets/controls",
            "_model_module_version": "1.5.0",
            "_model_name": "ProgressStyleModel",
            "_view_count": null,
            "_view_module": "@jupyter-widgets/base",
            "_view_module_version": "1.2.0",
            "_view_name": "StyleView",
            "bar_color": null,
            "description_width": ""
          }
        },
        "4fd4ff9a03344e29bff057631658c459": {
          "model_module": "@jupyter-widgets/base",
          "model_name": "LayoutModel",
          "model_module_version": "1.2.0",
          "state": {
            "_model_module": "@jupyter-widgets/base",
            "_model_module_version": "1.2.0",
            "_model_name": "LayoutModel",
            "_view_count": null,
            "_view_module": "@jupyter-widgets/base",
            "_view_module_version": "1.2.0",
            "_view_name": "LayoutView",
            "align_content": null,
            "align_items": null,
            "align_self": null,
            "border": null,
            "bottom": null,
            "display": null,
            "flex": null,
            "flex_flow": null,
            "grid_area": null,
            "grid_auto_columns": null,
            "grid_auto_flow": null,
            "grid_auto_rows": null,
            "grid_column": null,
            "grid_gap": null,
            "grid_row": null,
            "grid_template_areas": null,
            "grid_template_columns": null,
            "grid_template_rows": null,
            "height": null,
            "justify_content": null,
            "justify_items": null,
            "left": null,
            "margin": null,
            "max_height": null,
            "max_width": null,
            "min_height": null,
            "min_width": null,
            "object_fit": null,
            "object_position": null,
            "order": null,
            "overflow": null,
            "overflow_x": null,
            "overflow_y": null,
            "padding": null,
            "right": null,
            "top": null,
            "visibility": null,
            "width": null
          }
        },
        "d08796a9230045f78c5613cabedacbfd": {
          "model_module": "@jupyter-widgets/controls",
          "model_name": "DescriptionStyleModel",
          "model_module_version": "1.5.0",
          "state": {
            "_model_module": "@jupyter-widgets/controls",
            "_model_module_version": "1.5.0",
            "_model_name": "DescriptionStyleModel",
            "_view_count": null,
            "_view_module": "@jupyter-widgets/base",
            "_view_module_version": "1.2.0",
            "_view_name": "StyleView",
            "description_width": ""
          }
        },
        "30332aaf44e0480b86bb2deb65c634e0": {
          "model_module": "@jupyter-widgets/controls",
          "model_name": "HBoxModel",
          "model_module_version": "1.5.0",
          "state": {
            "_dom_classes": [],
            "_model_module": "@jupyter-widgets/controls",
            "_model_module_version": "1.5.0",
            "_model_name": "HBoxModel",
            "_view_count": null,
            "_view_module": "@jupyter-widgets/controls",
            "_view_module_version": "1.5.0",
            "_view_name": "HBoxView",
            "box_style": "",
            "children": [
              "IPY_MODEL_46dac564b45e4c7895a673ef572d3396",
              "IPY_MODEL_8593277e7c324b7e990f75a732edb555",
              "IPY_MODEL_79b3172d61cd42ec93fc8c5e78ac63cc"
            ],
            "layout": "IPY_MODEL_891d0ad3b2994455b2076ad6935dac8d"
          }
        },
        "46dac564b45e4c7895a673ef572d3396": {
          "model_module": "@jupyter-widgets/controls",
          "model_name": "HTMLModel",
          "model_module_version": "1.5.0",
          "state": {
            "_dom_classes": [],
            "_model_module": "@jupyter-widgets/controls",
            "_model_module_version": "1.5.0",
            "_model_name": "HTMLModel",
            "_view_count": null,
            "_view_module": "@jupyter-widgets/controls",
            "_view_module_version": "1.5.0",
            "_view_name": "HTMLView",
            "description": "",
            "description_tooltip": null,
            "layout": "IPY_MODEL_5d7d5432603b4c41a6f4eaaf5b192fb0",
            "placeholder": "​",
            "style": "IPY_MODEL_827a93de6332496682b241438e4febd8",
            "value": "Generating embeddings: 100%"
          }
        },
        "8593277e7c324b7e990f75a732edb555": {
          "model_module": "@jupyter-widgets/controls",
          "model_name": "FloatProgressModel",
          "model_module_version": "1.5.0",
          "state": {
            "_dom_classes": [],
            "_model_module": "@jupyter-widgets/controls",
            "_model_module_version": "1.5.0",
            "_model_name": "FloatProgressModel",
            "_view_count": null,
            "_view_module": "@jupyter-widgets/controls",
            "_view_module_version": "1.5.0",
            "_view_name": "ProgressView",
            "bar_style": "success",
            "description": "",
            "description_tooltip": null,
            "layout": "IPY_MODEL_3d27953c00534b38ae64daabc9a6e3f9",
            "max": 3,
            "min": 0,
            "orientation": "horizontal",
            "style": "IPY_MODEL_efa466c98e2f4721b6eaf157aa4840ca",
            "value": 3
          }
        },
        "79b3172d61cd42ec93fc8c5e78ac63cc": {
          "model_module": "@jupyter-widgets/controls",
          "model_name": "HTMLModel",
          "model_module_version": "1.5.0",
          "state": {
            "_dom_classes": [],
            "_model_module": "@jupyter-widgets/controls",
            "_model_module_version": "1.5.0",
            "_model_name": "HTMLModel",
            "_view_count": null,
            "_view_module": "@jupyter-widgets/controls",
            "_view_module_version": "1.5.0",
            "_view_name": "HTMLView",
            "description": "",
            "description_tooltip": null,
            "layout": "IPY_MODEL_cfe73c88b4b54d3cb818edbbde7baf38",
            "placeholder": "​",
            "style": "IPY_MODEL_5bea6d61c8244750aec36c999be2ef59",
            "value": " 3/3 [00:01&lt;00:00,  2.32it/s]"
          }
        },
        "891d0ad3b2994455b2076ad6935dac8d": {
          "model_module": "@jupyter-widgets/base",
          "model_name": "LayoutModel",
          "model_module_version": "1.2.0",
          "state": {
            "_model_module": "@jupyter-widgets/base",
            "_model_module_version": "1.2.0",
            "_model_name": "LayoutModel",
            "_view_count": null,
            "_view_module": "@jupyter-widgets/base",
            "_view_module_version": "1.2.0",
            "_view_name": "LayoutView",
            "align_content": null,
            "align_items": null,
            "align_self": null,
            "border": null,
            "bottom": null,
            "display": null,
            "flex": null,
            "flex_flow": null,
            "grid_area": null,
            "grid_auto_columns": null,
            "grid_auto_flow": null,
            "grid_auto_rows": null,
            "grid_column": null,
            "grid_gap": null,
            "grid_row": null,
            "grid_template_areas": null,
            "grid_template_columns": null,
            "grid_template_rows": null,
            "height": null,
            "justify_content": null,
            "justify_items": null,
            "left": null,
            "margin": null,
            "max_height": null,
            "max_width": null,
            "min_height": null,
            "min_width": null,
            "object_fit": null,
            "object_position": null,
            "order": null,
            "overflow": null,
            "overflow_x": null,
            "overflow_y": null,
            "padding": null,
            "right": null,
            "top": null,
            "visibility": null,
            "width": null
          }
        },
        "5d7d5432603b4c41a6f4eaaf5b192fb0": {
          "model_module": "@jupyter-widgets/base",
          "model_name": "LayoutModel",
          "model_module_version": "1.2.0",
          "state": {
            "_model_module": "@jupyter-widgets/base",
            "_model_module_version": "1.2.0",
            "_model_name": "LayoutModel",
            "_view_count": null,
            "_view_module": "@jupyter-widgets/base",
            "_view_module_version": "1.2.0",
            "_view_name": "LayoutView",
            "align_content": null,
            "align_items": null,
            "align_self": null,
            "border": null,
            "bottom": null,
            "display": null,
            "flex": null,
            "flex_flow": null,
            "grid_area": null,
            "grid_auto_columns": null,
            "grid_auto_flow": null,
            "grid_auto_rows": null,
            "grid_column": null,
            "grid_gap": null,
            "grid_row": null,
            "grid_template_areas": null,
            "grid_template_columns": null,
            "grid_template_rows": null,
            "height": null,
            "justify_content": null,
            "justify_items": null,
            "left": null,
            "margin": null,
            "max_height": null,
            "max_width": null,
            "min_height": null,
            "min_width": null,
            "object_fit": null,
            "object_position": null,
            "order": null,
            "overflow": null,
            "overflow_x": null,
            "overflow_y": null,
            "padding": null,
            "right": null,
            "top": null,
            "visibility": null,
            "width": null
          }
        },
        "827a93de6332496682b241438e4febd8": {
          "model_module": "@jupyter-widgets/controls",
          "model_name": "DescriptionStyleModel",
          "model_module_version": "1.5.0",
          "state": {
            "_model_module": "@jupyter-widgets/controls",
            "_model_module_version": "1.5.0",
            "_model_name": "DescriptionStyleModel",
            "_view_count": null,
            "_view_module": "@jupyter-widgets/base",
            "_view_module_version": "1.2.0",
            "_view_name": "StyleView",
            "description_width": ""
          }
        },
        "3d27953c00534b38ae64daabc9a6e3f9": {
          "model_module": "@jupyter-widgets/base",
          "model_name": "LayoutModel",
          "model_module_version": "1.2.0",
          "state": {
            "_model_module": "@jupyter-widgets/base",
            "_model_module_version": "1.2.0",
            "_model_name": "LayoutModel",
            "_view_count": null,
            "_view_module": "@jupyter-widgets/base",
            "_view_module_version": "1.2.0",
            "_view_name": "LayoutView",
            "align_content": null,
            "align_items": null,
            "align_self": null,
            "border": null,
            "bottom": null,
            "display": null,
            "flex": null,
            "flex_flow": null,
            "grid_area": null,
            "grid_auto_columns": null,
            "grid_auto_flow": null,
            "grid_auto_rows": null,
            "grid_column": null,
            "grid_gap": null,
            "grid_row": null,
            "grid_template_areas": null,
            "grid_template_columns": null,
            "grid_template_rows": null,
            "height": null,
            "justify_content": null,
            "justify_items": null,
            "left": null,
            "margin": null,
            "max_height": null,
            "max_width": null,
            "min_height": null,
            "min_width": null,
            "object_fit": null,
            "object_position": null,
            "order": null,
            "overflow": null,
            "overflow_x": null,
            "overflow_y": null,
            "padding": null,
            "right": null,
            "top": null,
            "visibility": null,
            "width": null
          }
        },
        "efa466c98e2f4721b6eaf157aa4840ca": {
          "model_module": "@jupyter-widgets/controls",
          "model_name": "ProgressStyleModel",
          "model_module_version": "1.5.0",
          "state": {
            "_model_module": "@jupyter-widgets/controls",
            "_model_module_version": "1.5.0",
            "_model_name": "ProgressStyleModel",
            "_view_count": null,
            "_view_module": "@jupyter-widgets/base",
            "_view_module_version": "1.2.0",
            "_view_name": "StyleView",
            "bar_color": null,
            "description_width": ""
          }
        },
        "cfe73c88b4b54d3cb818edbbde7baf38": {
          "model_module": "@jupyter-widgets/base",
          "model_name": "LayoutModel",
          "model_module_version": "1.2.0",
          "state": {
            "_model_module": "@jupyter-widgets/base",
            "_model_module_version": "1.2.0",
            "_model_name": "LayoutModel",
            "_view_count": null,
            "_view_module": "@jupyter-widgets/base",
            "_view_module_version": "1.2.0",
            "_view_name": "LayoutView",
            "align_content": null,
            "align_items": null,
            "align_self": null,
            "border": null,
            "bottom": null,
            "display": null,
            "flex": null,
            "flex_flow": null,
            "grid_area": null,
            "grid_auto_columns": null,
            "grid_auto_flow": null,
            "grid_auto_rows": null,
            "grid_column": null,
            "grid_gap": null,
            "grid_row": null,
            "grid_template_areas": null,
            "grid_template_columns": null,
            "grid_template_rows": null,
            "height": null,
            "justify_content": null,
            "justify_items": null,
            "left": null,
            "margin": null,
            "max_height": null,
            "max_width": null,
            "min_height": null,
            "min_width": null,
            "object_fit": null,
            "object_position": null,
            "order": null,
            "overflow": null,
            "overflow_x": null,
            "overflow_y": null,
            "padding": null,
            "right": null,
            "top": null,
            "visibility": null,
            "width": null
          }
        },
        "5bea6d61c8244750aec36c999be2ef59": {
          "model_module": "@jupyter-widgets/controls",
          "model_name": "DescriptionStyleModel",
          "model_module_version": "1.5.0",
          "state": {
            "_model_module": "@jupyter-widgets/controls",
            "_model_module_version": "1.5.0",
            "_model_name": "DescriptionStyleModel",
            "_view_count": null,
            "_view_module": "@jupyter-widgets/base",
            "_view_module_version": "1.2.0",
            "_view_name": "StyleView",
            "description_width": ""
          }
        }
      }
    }
  },
  "cells": [
    {
      "cell_type": "markdown",
      "metadata": {
        "id": "view-in-github",
        "colab_type": "text"
      },
      "source": [
        "<a href=\"https://colab.research.google.com/github/jerryw18/job_hack/blob/main/JW.ipynb\" target=\"_parent\"><img src=\"https://colab.research.google.com/assets/colab-badge.svg\" alt=\"Open In Colab\"/></a>"
      ]
    },
    {
      "cell_type": "code",
      "execution_count": null,
      "metadata": {
        "id": "hYVLekbwUj6w"
      },
      "outputs": [],
      "source": []
    },
    {
      "cell_type": "code",
      "source": [
        "!pip install uv\n",
        "!pip install python-dotenv\n",
        "!uv pip install --system -qU llama-index==0.11.6 llama-index-llms-openai llama-index-readers-file llama-index-embeddings-openai llama-index-llms-openai-like \"openinference-instrumentation-llama-index>=2\" arize-phoenix python-dotenv\n"
      ],
      "metadata": {
        "id": "kVVWxBR9VI39",
        "colab": {
          "base_uri": "https://localhost:8080/"
        },
        "outputId": "13533866-9f4e-4fc3-9b8e-543c2a082e2b"
      },
      "execution_count": 3,
      "outputs": [
        {
          "output_type": "stream",
          "name": "stdout",
          "text": [
            "Collecting uv\n",
            "  Downloading uv-0.5.26-py3-none-manylinux_2_17_x86_64.manylinux2014_x86_64.whl.metadata (11 kB)\n",
            "Downloading uv-0.5.26-py3-none-manylinux_2_17_x86_64.manylinux2014_x86_64.whl (16.2 MB)\n",
            "\u001b[2K   \u001b[90m━━━━━━━━━━━━━━━━━━━━━━━━━━━━━━━━━━━━━━━━\u001b[0m \u001b[32m16.2/16.2 MB\u001b[0m \u001b[31m50.4 MB/s\u001b[0m eta \u001b[36m0:00:00\u001b[0m\n",
            "\u001b[?25hInstalling collected packages: uv\n",
            "Successfully installed uv-0.5.26\n",
            "Collecting python-dotenv\n",
            "  Downloading python_dotenv-1.0.1-py3-none-any.whl.metadata (23 kB)\n",
            "Downloading python_dotenv-1.0.1-py3-none-any.whl (19 kB)\n",
            "Installing collected packages: python-dotenv\n",
            "Successfully installed python-dotenv-1.0.1\n"
          ]
        }
      ]
    },
    {
      "cell_type": "code",
      "source": [
        "import os\n",
        "from os import environ\n",
        "from dotenv import load_dotenv\n",
        "\n",
        "load_dotenv()\n",
        "\n",
        "OPENAI_API_KEY = environ[\"OPENAI_API_KEY\"]"
      ],
      "metadata": {
        "id": "MBebwqCblW3I"
      },
      "execution_count": 16,
      "outputs": []
    },
    {
      "cell_type": "code",
      "source": [
        "from llama_index.core import (\n",
        "    SimpleDirectoryReader,\n",
        "    VectorStoreIndex,\n",
        "    StorageContext,\n",
        "    load_index_from_storage,\n",
        ")\n",
        "from llama_index.core.tools import QueryEngineTool, ToolMetadata\n",
        "from llama_index.core.agent import ReActAgent\n",
        "from llama_index.llms.openai import OpenAI\n",
        "\n",
        "\n",
        "# Create an llm object to use for the QueryEngine and the ReActAgent\n",
        "llm = OpenAI(model=\"gpt-4\")"
      ],
      "metadata": {
        "id": "8sp6LOpYU00S"
      },
      "execution_count": 18,
      "outputs": []
    },
    {
      "cell_type": "code",
      "source": [
        "import phoenix as px\n",
        "session = px.launch_app()"
      ],
      "metadata": {
        "id": "V5_q-eG3VZe6",
        "colab": {
          "base_uri": "https://localhost:8080/",
          "height": 214
        },
        "outputId": "8f362e9a-c1c3-4ed5-e5d6-7a6e844ac1de"
      },
      "execution_count": 7,
      "outputs": [
        {
          "output_type": "error",
          "ename": "AttributeError",
          "evalue": "module 'pyarrow.lib' has no attribute 'Decimal32Type'",
          "traceback": [
            "\u001b[0;31m---------------------------------------------------------------------------\u001b[0m",
            "\u001b[0;31mAttributeError\u001b[0m                            Traceback (most recent call last)",
            "\u001b[0;32m<ipython-input-7-df705765ffaf>\u001b[0m in \u001b[0;36m<cell line: 0>\u001b[0;34m()\u001b[0m\n\u001b[0;32m----> 1\u001b[0;31m \u001b[0;32mimport\u001b[0m \u001b[0mphoenix\u001b[0m \u001b[0;32mas\u001b[0m \u001b[0mpx\u001b[0m\u001b[0;34m\u001b[0m\u001b[0;34m\u001b[0m\u001b[0m\n\u001b[0m\u001b[1;32m      2\u001b[0m \u001b[0msession\u001b[0m \u001b[0;34m=\u001b[0m \u001b[0mpx\u001b[0m\u001b[0;34m.\u001b[0m\u001b[0mlaunch_app\u001b[0m\u001b[0;34m(\u001b[0m\u001b[0;34m)\u001b[0m\u001b[0;34m\u001b[0m\u001b[0;34m\u001b[0m\u001b[0m\n",
            "\u001b[0;32m/usr/local/lib/python3.11/dist-packages/phoenix/__init__.py\u001b[0m in \u001b[0;36m<module>\u001b[0;34m\u001b[0m\n\u001b[1;32m      8\u001b[0m \u001b[0;32mfrom\u001b[0m \u001b[0;34m.\u001b[0m\u001b[0minferences\u001b[0m\u001b[0;34m.\u001b[0m\u001b[0minferences\u001b[0m \u001b[0;32mimport\u001b[0m \u001b[0mInferences\u001b[0m\u001b[0;34m\u001b[0m\u001b[0;34m\u001b[0m\u001b[0m\n\u001b[1;32m      9\u001b[0m \u001b[0;32mfrom\u001b[0m \u001b[0;34m.\u001b[0m\u001b[0minferences\u001b[0m\u001b[0;34m.\u001b[0m\u001b[0mschema\u001b[0m \u001b[0;32mimport\u001b[0m \u001b[0mEmbeddingColumnNames\u001b[0m\u001b[0;34m,\u001b[0m \u001b[0mRetrievalEmbeddingColumnNames\u001b[0m\u001b[0;34m,\u001b[0m \u001b[0mSchema\u001b[0m\u001b[0;34m\u001b[0m\u001b[0;34m\u001b[0m\u001b[0m\n\u001b[0;32m---> 10\u001b[0;31m \u001b[0;32mfrom\u001b[0m \u001b[0;34m.\u001b[0m\u001b[0msession\u001b[0m\u001b[0;34m.\u001b[0m\u001b[0mclient\u001b[0m \u001b[0;32mimport\u001b[0m \u001b[0mClient\u001b[0m\u001b[0;34m\u001b[0m\u001b[0;34m\u001b[0m\u001b[0m\n\u001b[0m\u001b[1;32m     11\u001b[0m \u001b[0;32mfrom\u001b[0m \u001b[0;34m.\u001b[0m\u001b[0msession\u001b[0m\u001b[0;34m.\u001b[0m\u001b[0mevaluation\u001b[0m \u001b[0;32mimport\u001b[0m \u001b[0mlog_evaluations\u001b[0m\u001b[0;34m\u001b[0m\u001b[0;34m\u001b[0m\u001b[0m\n\u001b[1;32m     12\u001b[0m from .session.session import (\n",
            "\u001b[0;32m/usr/local/lib/python3.11/dist-packages/phoenix/session/client.py\u001b[0m in \u001b[0;36m<module>\u001b[0;34m\u001b[0m\n\u001b[1;32m     31\u001b[0m \u001b[0;32mfrom\u001b[0m \u001b[0mphoenix\u001b[0m\u001b[0;34m.\u001b[0m\u001b[0mdatetime_utils\u001b[0m \u001b[0;32mimport\u001b[0m \u001b[0mnormalize_datetime\u001b[0m\u001b[0;34m\u001b[0m\u001b[0;34m\u001b[0m\u001b[0m\n\u001b[1;32m     32\u001b[0m \u001b[0;32mfrom\u001b[0m \u001b[0mphoenix\u001b[0m\u001b[0;34m.\u001b[0m\u001b[0mdb\u001b[0m\u001b[0;34m.\u001b[0m\u001b[0minsertion\u001b[0m\u001b[0;34m.\u001b[0m\u001b[0mdataset\u001b[0m \u001b[0;32mimport\u001b[0m \u001b[0mDatasetKeys\u001b[0m\u001b[0;34m\u001b[0m\u001b[0;34m\u001b[0m\u001b[0m\n\u001b[0;32m---> 33\u001b[0;31m \u001b[0;32mfrom\u001b[0m \u001b[0mphoenix\u001b[0m\u001b[0;34m.\u001b[0m\u001b[0mexperiments\u001b[0m\u001b[0;34m.\u001b[0m\u001b[0mtypes\u001b[0m \u001b[0;32mimport\u001b[0m \u001b[0mDataset\u001b[0m\u001b[0;34m,\u001b[0m \u001b[0mExample\u001b[0m\u001b[0;34m,\u001b[0m \u001b[0mExperiment\u001b[0m\u001b[0;34m\u001b[0m\u001b[0;34m\u001b[0m\u001b[0m\n\u001b[0m\u001b[1;32m     34\u001b[0m \u001b[0;32mfrom\u001b[0m \u001b[0mphoenix\u001b[0m\u001b[0;34m.\u001b[0m\u001b[0msession\u001b[0m\u001b[0;34m.\u001b[0m\u001b[0mdata_extractor\u001b[0m \u001b[0;32mimport\u001b[0m \u001b[0mDEFAULT_SPAN_LIMIT\u001b[0m\u001b[0;34m,\u001b[0m \u001b[0mTraceDataExtractor\u001b[0m\u001b[0;34m\u001b[0m\u001b[0;34m\u001b[0m\u001b[0m\n\u001b[1;32m     35\u001b[0m \u001b[0;32mfrom\u001b[0m \u001b[0mphoenix\u001b[0m\u001b[0;34m.\u001b[0m\u001b[0mtrace\u001b[0m \u001b[0;32mimport\u001b[0m \u001b[0mEvaluations\u001b[0m\u001b[0;34m,\u001b[0m \u001b[0mTraceDataset\u001b[0m\u001b[0;34m\u001b[0m\u001b[0;34m\u001b[0m\u001b[0m\n",
            "\u001b[0;32m/usr/local/lib/python3.11/dist-packages/phoenix/experiments/__init__.py\u001b[0m in \u001b[0;36m<module>\u001b[0;34m\u001b[0m\n\u001b[0;32m----> 1\u001b[0;31m \u001b[0;32mfrom\u001b[0m \u001b[0;34m.\u001b[0m\u001b[0mfunctions\u001b[0m \u001b[0;32mimport\u001b[0m \u001b[0mevaluate_experiment\u001b[0m\u001b[0;34m,\u001b[0m \u001b[0mrun_experiment\u001b[0m\u001b[0;34m\u001b[0m\u001b[0;34m\u001b[0m\u001b[0m\n\u001b[0m\u001b[1;32m      2\u001b[0m \u001b[0;34m\u001b[0m\u001b[0m\n\u001b[1;32m      3\u001b[0m __all__ = [\n\u001b[1;32m      4\u001b[0m     \u001b[0;34m\"evaluate_experiment\"\u001b[0m\u001b[0;34m,\u001b[0m\u001b[0;34m\u001b[0m\u001b[0;34m\u001b[0m\u001b[0m\n\u001b[1;32m      5\u001b[0m     \u001b[0;34m\"run_experiment\"\u001b[0m\u001b[0;34m,\u001b[0m\u001b[0;34m\u001b[0m\u001b[0;34m\u001b[0m\u001b[0m\n",
            "\u001b[0;32m/usr/local/lib/python3.11/dist-packages/phoenix/experiments/functions.py\u001b[0m in \u001b[0;36m<module>\u001b[0;34m\u001b[0m\n\u001b[1;32m     61\u001b[0m )\n\u001b[1;32m     62\u001b[0m \u001b[0;32mfrom\u001b[0m \u001b[0mphoenix\u001b[0m\u001b[0;34m.\u001b[0m\u001b[0mexperiments\u001b[0m\u001b[0;34m.\u001b[0m\u001b[0mutils\u001b[0m \u001b[0;32mimport\u001b[0m \u001b[0mget_dataset_experiments_url\u001b[0m\u001b[0;34m,\u001b[0m \u001b[0mget_experiment_url\u001b[0m\u001b[0;34m,\u001b[0m \u001b[0mget_func_name\u001b[0m\u001b[0;34m\u001b[0m\u001b[0;34m\u001b[0m\u001b[0m\n\u001b[0;32m---> 63\u001b[0;31m \u001b[0;32mfrom\u001b[0m \u001b[0mphoenix\u001b[0m\u001b[0;34m.\u001b[0m\u001b[0mtrace\u001b[0m\u001b[0;34m.\u001b[0m\u001b[0mattributes\u001b[0m \u001b[0;32mimport\u001b[0m \u001b[0mflatten\u001b[0m\u001b[0;34m\u001b[0m\u001b[0;34m\u001b[0m\u001b[0m\n\u001b[0m\u001b[1;32m     64\u001b[0m \u001b[0;32mfrom\u001b[0m \u001b[0mphoenix\u001b[0m\u001b[0;34m.\u001b[0m\u001b[0mutilities\u001b[0m\u001b[0;34m.\u001b[0m\u001b[0mclient\u001b[0m \u001b[0;32mimport\u001b[0m \u001b[0mVersionedAsyncClient\u001b[0m\u001b[0;34m,\u001b[0m \u001b[0mVersionedClient\u001b[0m\u001b[0;34m\u001b[0m\u001b[0;34m\u001b[0m\u001b[0m\n\u001b[1;32m     65\u001b[0m \u001b[0;32mfrom\u001b[0m \u001b[0mphoenix\u001b[0m\u001b[0;34m.\u001b[0m\u001b[0mutilities\u001b[0m\u001b[0;34m.\u001b[0m\u001b[0mjson\u001b[0m \u001b[0;32mimport\u001b[0m \u001b[0mjsonify\u001b[0m\u001b[0;34m\u001b[0m\u001b[0;34m\u001b[0m\u001b[0m\n",
            "\u001b[0;32m/usr/local/lib/python3.11/dist-packages/phoenix/trace/__init__.py\u001b[0m in \u001b[0;36m<module>\u001b[0;34m\u001b[0m\n\u001b[1;32m      2\u001b[0m \u001b[0;34m\u001b[0m\u001b[0m\n\u001b[1;32m      3\u001b[0m \u001b[0;32mfrom\u001b[0m \u001b[0;34m.\u001b[0m\u001b[0mprojects\u001b[0m \u001b[0;32mimport\u001b[0m \u001b[0musing_project\u001b[0m\u001b[0;34m\u001b[0m\u001b[0;34m\u001b[0m\u001b[0m\n\u001b[0;32m----> 4\u001b[0;31m \u001b[0;32mfrom\u001b[0m \u001b[0;34m.\u001b[0m\u001b[0mspan_evaluations\u001b[0m \u001b[0;32mimport\u001b[0m \u001b[0mDocumentEvaluations\u001b[0m\u001b[0;34m,\u001b[0m \u001b[0mEvaluations\u001b[0m\u001b[0;34m,\u001b[0m \u001b[0mSpanEvaluations\u001b[0m\u001b[0;34m,\u001b[0m \u001b[0mTraceEvaluations\u001b[0m\u001b[0;34m\u001b[0m\u001b[0;34m\u001b[0m\u001b[0m\n\u001b[0m\u001b[1;32m      5\u001b[0m \u001b[0;32mfrom\u001b[0m \u001b[0;34m.\u001b[0m\u001b[0mtrace_dataset\u001b[0m \u001b[0;32mimport\u001b[0m \u001b[0mTraceDataset\u001b[0m\u001b[0;34m\u001b[0m\u001b[0;34m\u001b[0m\u001b[0m\n\u001b[1;32m      6\u001b[0m \u001b[0;34m\u001b[0m\u001b[0m\n",
            "\u001b[0;32m/usr/local/lib/python3.11/dist-packages/phoenix/trace/span_evaluations.py\u001b[0m in \u001b[0;36m<module>\u001b[0;34m\u001b[0m\n\u001b[1;32m     11\u001b[0m \u001b[0;32mimport\u001b[0m \u001b[0mpandas\u001b[0m \u001b[0;32mas\u001b[0m \u001b[0mpd\u001b[0m\u001b[0;34m\u001b[0m\u001b[0;34m\u001b[0m\u001b[0m\n\u001b[1;32m     12\u001b[0m \u001b[0;32mfrom\u001b[0m \u001b[0mpandas\u001b[0m\u001b[0;34m.\u001b[0m\u001b[0mapi\u001b[0m\u001b[0;34m.\u001b[0m\u001b[0mtypes\u001b[0m \u001b[0;32mimport\u001b[0m \u001b[0mis_integer_dtype\u001b[0m\u001b[0;34m,\u001b[0m \u001b[0mis_numeric_dtype\u001b[0m\u001b[0;34m,\u001b[0m \u001b[0mis_string_dtype\u001b[0m\u001b[0;34m\u001b[0m\u001b[0;34m\u001b[0m\u001b[0m\n\u001b[0;32m---> 13\u001b[0;31m \u001b[0;32mfrom\u001b[0m \u001b[0mpyarrow\u001b[0m \u001b[0;32mimport\u001b[0m \u001b[0mRecordBatchStreamReader\u001b[0m\u001b[0;34m,\u001b[0m \u001b[0mSchema\u001b[0m\u001b[0;34m,\u001b[0m \u001b[0mTable\u001b[0m\u001b[0;34m,\u001b[0m \u001b[0mparquet\u001b[0m\u001b[0;34m\u001b[0m\u001b[0;34m\u001b[0m\u001b[0m\n\u001b[0m\u001b[1;32m     14\u001b[0m \u001b[0;34m\u001b[0m\u001b[0m\n\u001b[1;32m     15\u001b[0m \u001b[0;32mfrom\u001b[0m \u001b[0mphoenix\u001b[0m\u001b[0;34m.\u001b[0m\u001b[0mconfig\u001b[0m \u001b[0;32mimport\u001b[0m \u001b[0mTRACE_DATASETS_DIR\u001b[0m\u001b[0;34m\u001b[0m\u001b[0;34m\u001b[0m\u001b[0m\n",
            "\u001b[0;32m/usr/local/lib/python3.11/dist-packages/pyarrow/parquet/__init__.py\u001b[0m in \u001b[0;36m<module>\u001b[0;34m\u001b[0m\n\u001b[1;32m     18\u001b[0m \u001b[0;31m# flake8: noqa\u001b[0m\u001b[0;34m\u001b[0m\u001b[0;34m\u001b[0m\u001b[0m\n\u001b[1;32m     19\u001b[0m \u001b[0;34m\u001b[0m\u001b[0m\n\u001b[0;32m---> 20\u001b[0;31m \u001b[0;32mfrom\u001b[0m \u001b[0;34m.\u001b[0m\u001b[0mcore\u001b[0m \u001b[0;32mimport\u001b[0m \u001b[0;34m*\u001b[0m\u001b[0;34m\u001b[0m\u001b[0;34m\u001b[0m\u001b[0m\n\u001b[0m",
            "\u001b[0;32m/usr/local/lib/python3.11/dist-packages/pyarrow/parquet/core.py\u001b[0m in \u001b[0;36m<module>\u001b[0;34m\u001b[0m\n\u001b[1;32m     31\u001b[0m \u001b[0;34m\u001b[0m\u001b[0m\n\u001b[1;32m     32\u001b[0m \u001b[0;32mtry\u001b[0m\u001b[0;34m:\u001b[0m\u001b[0;34m\u001b[0m\u001b[0;34m\u001b[0m\u001b[0m\n\u001b[0;32m---> 33\u001b[0;31m     \u001b[0;32mimport\u001b[0m \u001b[0mpyarrow\u001b[0m\u001b[0;34m.\u001b[0m\u001b[0m_parquet\u001b[0m \u001b[0;32mas\u001b[0m \u001b[0m_parquet\u001b[0m\u001b[0;34m\u001b[0m\u001b[0;34m\u001b[0m\u001b[0m\n\u001b[0m\u001b[1;32m     34\u001b[0m \u001b[0;32mexcept\u001b[0m \u001b[0mImportError\u001b[0m \u001b[0;32mas\u001b[0m \u001b[0mexc\u001b[0m\u001b[0;34m:\u001b[0m\u001b[0;34m\u001b[0m\u001b[0;34m\u001b[0m\u001b[0m\n\u001b[1;32m     35\u001b[0m     raise ImportError(\n",
            "\u001b[0;32m/usr/local/lib/python3.11/dist-packages/pyarrow/_parquet.pyx\u001b[0m in \u001b[0;36minit pyarrow._parquet\u001b[0;34m()\u001b[0m\n",
            "\u001b[0;31mAttributeError\u001b[0m: module 'pyarrow.lib' has no attribute 'Decimal32Type'"
          ]
        }
      ]
    },
    {
      "cell_type": "code",
      "source": [
        "from openinference.instrumentation.llama_index import LlamaIndexInstrumentor\n",
        "from phoenix.otel import register\n",
        "\n",
        "tracer_provider = register()\n",
        "LlamaIndexInstrumentor().instrument(tracer_provider=tracer_provider)"
      ],
      "metadata": {
        "id": "zOqsUfWMVfZM"
      },
      "execution_count": null,
      "outputs": []
    },
    {
      "cell_type": "code",
      "source": [
        "#%ls /content/job_hack/dataset/user0\n",
        "\n",
        "from google.colab import drive\n",
        "\n",
        "drive.mount('/content/drive')"
      ],
      "metadata": {
        "id": "kkk58iy8CVbn"
      },
      "execution_count": null,
      "outputs": []
    },
    {
      "cell_type": "code",
      "source": [
        "\"\"\"\n",
        "try:\n",
        "    storage_context = StorageContext.from_defaults(\n",
        "        persist_dir=\"./storage/lyft\"\n",
        "    )\n",
        "    lyft_index = load_index_from_storage(storage_context)\n",
        "\n",
        "    storage_context = StorageContext.from_defaults(\n",
        "        persist_dir=\"./storage/uber\"\n",
        "    )\n",
        "    uber_index = load_index_from_storage(storage_context)\n",
        "\n",
        "    index_loaded = True\n",
        "except:\n",
        "    index_loaded = False\n",
        "\"\"\""
      ],
      "metadata": {
        "id": "mp-6ze2PFMA4"
      },
      "execution_count": null,
      "outputs": []
    },
    {
      "cell_type": "code",
      "source": [
        "# load data\n",
        "#if not index_loaded:\n",
        "user0_docs = SimpleDirectoryReader(\n",
        "    input_files=[\"/content/job_hack/dataset/user0/position0.json\", \"/content/job_hack/dataset/user0/user_profile.json\", \"/content/job_hack/dataset/user0/interview0.json\"]\n",
        "    ).load_data()\n",
        "\n",
        "# build index\n",
        "user_docs_index = VectorStoreIndex.from_documents(user0_docs, show_progress=True)\n",
        "\n",
        "\n",
        "# persist index, use username for storage? TODO: get username\n",
        "#user_docs_index.storage_context.persist(persist_dir=\"./content/job_hack/storage/user0\")\n"
      ],
      "metadata": {
        "id": "D_mh3HUAVpTH",
        "colab": {
          "base_uri": "https://localhost:8080/",
          "height": 81,
          "referenced_widgets": [
            "e938b4f12e48496880f24e47aff7765a",
            "224c0617d13b4758b6274913016ba7ee",
            "5c2ff30235f245c58fb003ae8502d672",
            "546710d7abbf4d6db57134028355a8cd",
            "0a923ecf979e4242af4a2b9f97679ceb",
            "56b7447b2d43422f8fff8123a4994bfd",
            "9b04f7a567ed4a42b0f054d37fc0404d",
            "452dd55d844f4983bcf8a10721c96b63",
            "8f95be75811e49cc87191eb3ded28bb2",
            "4fd4ff9a03344e29bff057631658c459",
            "d08796a9230045f78c5613cabedacbfd",
            "30332aaf44e0480b86bb2deb65c634e0",
            "46dac564b45e4c7895a673ef572d3396",
            "8593277e7c324b7e990f75a732edb555",
            "79b3172d61cd42ec93fc8c5e78ac63cc",
            "891d0ad3b2994455b2076ad6935dac8d",
            "5d7d5432603b4c41a6f4eaaf5b192fb0",
            "827a93de6332496682b241438e4febd8",
            "3d27953c00534b38ae64daabc9a6e3f9",
            "efa466c98e2f4721b6eaf157aa4840ca",
            "cfe73c88b4b54d3cb818edbbde7baf38",
            "5bea6d61c8244750aec36c999be2ef59"
          ]
        },
        "outputId": "3c04d35a-cdf4-461d-8b89-668b0508d165"
      },
      "execution_count": 19,
      "outputs": [
        {
          "output_type": "display_data",
          "data": {
            "text/plain": [
              "Parsing nodes:   0%|          | 0/3 [00:00<?, ?it/s]"
            ],
            "application/vnd.jupyter.widget-view+json": {
              "version_major": 2,
              "version_minor": 0,
              "model_id": "e938b4f12e48496880f24e47aff7765a"
            }
          },
          "metadata": {}
        },
        {
          "output_type": "display_data",
          "data": {
            "text/plain": [
              "Generating embeddings:   0%|          | 0/3 [00:00<?, ?it/s]"
            ],
            "application/vnd.jupyter.widget-view+json": {
              "version_major": 2,
              "version_minor": 0,
              "model_id": "30332aaf44e0480b86bb2deb65c634e0"
            }
          },
          "metadata": {}
        }
      ]
    },
    {
      "cell_type": "code",
      "source": [
        "user0_engine = user_docs_index.as_query_engine(similarity_top_k=3, llm=llm)"
      ],
      "metadata": {
        "id": "DCSCScnqVvnf"
      },
      "execution_count": 20,
      "outputs": []
    },
    {
      "cell_type": "code",
      "source": [
        "query_engine_tools = [\n",
        "    QueryEngineTool(\n",
        "        query_engine=user0_engine,\n",
        "        metadata=ToolMetadata(\n",
        "            name=\"user0_cover_letter\",\n",
        "            description=(\n",
        "                \"build a cover letter from user profile and job position.\"\n",
        "            ),\n",
        "        ),\n",
        "    ),\n",
        "    QueryEngineTool(\n",
        "        query_engine=user0_engine,\n",
        "        metadata=ToolMetadata(\n",
        "            name=\"user0_interview_assessment\",\n",
        "            description=(\n",
        "                \"provide an assessment of how well the candidate interviewed.\"\n",
        "            ),\n",
        "        ),\n",
        "    ),\n",
        "]"
      ],
      "metadata": {
        "id": "H_7VCLovV1MA"
      },
      "execution_count": 21,
      "outputs": []
    },
    {
      "cell_type": "code",
      "source": [
        "agent = ReActAgent.from_tools(\n",
        "    query_engine_tools,\n",
        "    llm=llm,\n",
        "    verbose=True,\n",
        "    max_turns=10,\n",
        ")"
      ],
      "metadata": {
        "id": "yFZYzDQXV5OH"
      },
      "execution_count": 22,
      "outputs": []
    },
    {
      "cell_type": "code",
      "source": [
        "response = agent.chat(\"Could you build a cover letter that presents a strong case on why the applicant is a good candidate for the position? Finish your chain-of-thought in at most 3 steps.\")\n",
        "print(str(response))"
      ],
      "metadata": {
        "id": "HxHwoaU_WBES",
        "colab": {
          "base_uri": "https://localhost:8080/"
        },
        "outputId": "3d69180a-5be6-4463-9452-33e097721c50"
      },
      "execution_count": 23,
      "outputs": [
        {
          "output_type": "stream",
          "name": "stdout",
          "text": [
            "> Running step 316f3ed3-3017-438c-8d91-80f7fe153097. Step input: Could you build a cover letter that presents a strong case on why the applicant is a good candidate for the position? Finish your chain-of-thought in at most 3 steps.\n",
            "\u001b[1;3;38;5;200mThought: The user is asking for a cover letter that presents a strong case for the applicant. I can use the user0_cover_letter tool to generate this cover letter.\n",
            "Action: user0_cover_letter\n",
            "Action Input: {'input': \"Applicant's profile and job position\"}\n",
            "\u001b[0m\u001b[1;3;34mObservation: The applicant, Jane Doe, is a seasoned software engineer with a Master of Science degree in Computer Science from the University of Technology. She has worked in various roles, including as a Software Engineer at Big Tech Inc. and Startup One, and currently as a Senior Software Engineer at Startup Two. Her responsibilities have ranged from developing and maintaining web applications to leading the development of a new product and mentoring junior developers. Jane is skilled in Python, JavaScript, Django, React, and AWS, and has interests in Machine Learning, Open Source Contributions, and Tech Meetups.\n",
            "\n",
            "The job position she is interested in is a Senior Software Engineer role at Tech Innovators Inc., a technology company based in San Francisco, CA. The role is remote and involves designing, developing, and maintaining software applications in collaboration with cross-functional teams. Jane is particularly attracted to this position due to the career growth opportunities it offers, the chance to work on innovative projects, and the opportunity to mentor junior developers. The ideal salary for this position is between $120,000 and $150,000.\n",
            "\u001b[0m> Running step a4fcf155-31ea-485a-a44c-612c87562274. Step input: None\n",
            "\u001b[1;3;38;5;200mThought: The tool has provided a detailed profile of the applicant and the job position she is interested in. I can now use this information to build a strong cover letter that presents why Jane Doe is a good candidate for the Senior Software Engineer role at Tech Innovators Inc.\n",
            "Action: user0_cover_letter\n",
            "Action Input: {'input': 'Jane Doe, a seasoned software engineer with a Master of Science degree in Computer Science from the University of Technology, has worked in various roles, including as a Software Engineer at Big Tech Inc. and Startup One, and currently as a Senior Software Engineer at Startup Two. Her responsibilities have ranged from developing and maintaining web applications to leading the development of a new product and mentoring junior developers. Jane is skilled in Python, JavaScript, Django, React, and AWS, and has interests in Machine Learning, Open Source Contributions, and Tech Meetups. The job position she is interested in is a Senior Software Engineer role at Tech Innovators Inc., a technology company based in San Francisco, CA. The role is remote and involves designing, developing, and maintaining software applications in collaboration with cross-functional teams. Jane is particularly attracted to this position due to the career growth opportunities it offers, the chance to work on innovative projects, and the opportunity to mentor junior developers. The ideal salary for this position is between $120,000 and $150,000.'}\n",
            "\u001b[0m\u001b[1;3;34mObservation: Yes, your summary is accurate. Jane Doe is indeed a seasoned software engineer with a Master's degree in Computer Science from the University of Technology. She has worked in various roles at Big Tech Inc., Startup One, and currently at Startup Two. Her responsibilities have included developing and maintaining web applications, leading the development of a new product, and mentoring junior developers. Jane is skilled in Python, JavaScript, Django, React, and AWS, and has interests in Machine Learning, Open Source Contributions, and Tech Meetups. She is interested in a Senior Software Engineer role at Tech Innovators Inc., a technology company based in San Francisco, CA. The role is remote and involves designing, developing, and maintaining software applications in collaboration with cross-functional teams. Jane is attracted to this position due to the career growth opportunities it offers, the chance to work on innovative projects, and the opportunity to mentor junior developers. The ideal salary for this position is between $120,000 and $150,000.\n",
            "\u001b[0m> Running step f99d27aa-59d9-4ed0-9422-605fd2071b3c. Step input: None\n",
            "\u001b[1;3;38;5;200mThought: I can answer without using any more tools. I'll use the user's language to answer.\n",
            "Answer: Dear Hiring Manager,\n",
            "\n",
            "I am writing to express my interest in the Senior Software Engineer position at Tech Innovators Inc. I am a seasoned software engineer with a Master's degree in Computer Science from the University of Technology. I have worked in various roles at Big Tech Inc., Startup One, and currently at Startup Two, where my responsibilities have included developing and maintaining web applications, leading the development of a new product, and mentoring junior developers.\n",
            "\n",
            "I am skilled in Python, JavaScript, Django, React, and AWS, and have interests in Machine Learning, Open Source Contributions, and Tech Meetups. I am particularly attracted to this position at Tech Innovators Inc. due to the career growth opportunities it offers, the chance to work on innovative projects, and the opportunity to mentor junior developers.\n",
            "\n",
            "I am confident that my skills and experiences make me a strong candidate for this position. I am excited about the opportunity to bring my unique blend of skills and experience to your team and believe I could make a significant contribution to your company.\n",
            "\n",
            "Thank you for considering my application. I look forward to the possibility of discussing this exciting opportunity with you.\n",
            "\n",
            "Sincerely,\n",
            "Jane Doe\n",
            "\u001b[0mDear Hiring Manager,\n",
            "\n",
            "I am writing to express my interest in the Senior Software Engineer position at Tech Innovators Inc. I am a seasoned software engineer with a Master's degree in Computer Science from the University of Technology. I have worked in various roles at Big Tech Inc., Startup One, and currently at Startup Two, where my responsibilities have included developing and maintaining web applications, leading the development of a new product, and mentoring junior developers.\n",
            "\n",
            "I am skilled in Python, JavaScript, Django, React, and AWS, and have interests in Machine Learning, Open Source Contributions, and Tech Meetups. I am particularly attracted to this position at Tech Innovators Inc. due to the career growth opportunities it offers, the chance to work on innovative projects, and the opportunity to mentor junior developers.\n",
            "\n",
            "I am confident that my skills and experiences make me a strong candidate for this position. I am excited about the opportunity to bring my unique blend of skills and experience to your team and believe I could make a significant contribution to your company.\n",
            "\n",
            "Thank you for considering my application. I look forward to the possibility of discussing this exciting opportunity with you.\n",
            "\n",
            "Sincerely,\n",
            "Jane Doe\n"
          ]
        }
      ]
    },
    {
      "cell_type": "code",
      "source": [
        "response = agent.chat(\"Could you provide a detailed assessment of how well the candidate interviewed based on the interview notes, the candidate's profile, and the job position the candidate applied for? Please provide feedback for each interview question and answer. Please highlight areas the candidate did well, areas the candidate could improve on, and what concrete actions the cadidate can take to better prepare for future interviews. Please finish your chain-of-thought in at most 5 steps.\")\n",
        "print(str(response))"
      ],
      "metadata": {
        "colab": {
          "base_uri": "https://localhost:8080/"
        },
        "id": "VEstl1TxOKoY",
        "outputId": "2fb6c732-b832-434b-ec02-795f525ef901"
      },
      "execution_count": 24,
      "outputs": [
        {
          "output_type": "stream",
          "name": "stdout",
          "text": [
            "> Running step 130e0180-c2f3-4b01-bb69-c8a67d1a2871. Step input: Could you provide a detailed assessment of how well the candidate interviewed based on the interview notes, the candidate's profile, and the job position the candidate applied for? Please provide feedback for each interview question and answer. Please highlight areas the candidate did well, areas the candidate could improve on, and what concrete actions the cadidate can take to better prepare for future interviews. Please finish your chain-of-thought in at most 5 steps.\n",
            "\u001b[1;3;38;5;200mThought: The current task requires an assessment of the candidate's interview performance. I need to use the user0_interview_assessment tool to help me provide a detailed analysis.\n",
            "Action: user0_interview_assessment\n",
            "Action Input: {'input': \"Interview notes, candidate's profile, and job position details\"}\n",
            "\u001b[0m\u001b[1;3;34mObservation: The candidate, Jane Doe, interviewed for the position of Senior Software Engineer at Tech Innovators Inc. on October 15, 2023. The interview was conducted by Alice Johnson and Bob Smith. During the interview, Jane was asked about a challenging project she worked on, how she handles tight deadlines, and her strengths and weaknesses. She provided confident and satisfactory answers, highlighting her problem-solving skills and ability to work under pressure.\n",
            "\n",
            "Jane holds a Master of Science and a Bachelor of Science in Computer Science from the University of Technology. She has worked as a Software Engineer at Big Tech Inc. and Startup One, and is currently a Senior Software Engineer at Startup Two. Her responsibilities have included developing and maintaining web applications, collaborating with cross-functional teams, implementing new features, and mentoring junior developers. Jane's skills include Python, JavaScript, Django, React, and AWS.\n",
            "\n",
            "The position Jane applied for at Tech Innovators Inc. is a senior role, responsible for designing, developing, and maintaining software applications. The job offers remote work and is based in San Francisco, CA. The ideal salary range for the position is $120,000 - $150,000. Jane is interested in this position because it offers career growth opportunities, the chance to work on innovative projects, and the opportunity to mentor junior developers.\n",
            "\u001b[0m> Running step 1d33aa44-7666-476b-a8f6-194193e2e871. Step input: None\n",
            "\u001b[1;3;38;5;200mThought: Based on the observation, I can now provide a detailed assessment of the candidate's interview performance. I'll highlight areas the candidate did well, areas for improvement, and suggest concrete actions for future interviews.\n",
            "Answer: Jane Doe's interview performance for the Senior Software Engineer position at Tech Innovators Inc. was overall satisfactory. \n",
            "\n",
            "Strengths:\n",
            "1. Jane's answers to the interview questions demonstrated her problem-solving skills and ability to work under pressure, which are crucial for the role she applied for.\n",
            "2. Her experience in developing and maintaining web applications, collaborating with cross-functional teams, implementing new features, and mentoring junior developers aligns well with the job responsibilities.\n",
            "3. Jane's technical skills in Python, JavaScript, Django, React, and AWS are a strong match for the job requirements.\n",
            "\n",
            "Areas for Improvement:\n",
            "1. While Jane provided confident answers, she could improve by providing more specific examples from her past experience to demonstrate her skills and abilities.\n",
            "2. Jane could also work on articulating her career goals more clearly to show how this role aligns with her long-term career plans.\n",
            "\n",
            "Concrete Actions for Future Interviews:\n",
            "1. Jane should prepare specific examples from her past work experience that demonstrate her technical skills, problem-solving abilities, and leadership qualities.\n",
            "2. She should also practice articulating her career goals and how the role she is applying for aligns with these goals.\n",
            "3. Jane could also research more about the company and the role to better tailor her answers to the company's needs and expectations.\n",
            "\u001b[0mJane Doe's interview performance for the Senior Software Engineer position at Tech Innovators Inc. was overall satisfactory. \n",
            "\n",
            "Strengths:\n",
            "1. Jane's answers to the interview questions demonstrated her problem-solving skills and ability to work under pressure, which are crucial for the role she applied for.\n",
            "2. Her experience in developing and maintaining web applications, collaborating with cross-functional teams, implementing new features, and mentoring junior developers aligns well with the job responsibilities.\n",
            "3. Jane's technical skills in Python, JavaScript, Django, React, and AWS are a strong match for the job requirements.\n",
            "\n",
            "Areas for Improvement:\n",
            "1. While Jane provided confident answers, she could improve by providing more specific examples from her past experience to demonstrate her skills and abilities.\n",
            "2. Jane could also work on articulating her career goals more clearly to show how this role aligns with her long-term career plans.\n",
            "\n",
            "Concrete Actions for Future Interviews:\n",
            "1. Jane should prepare specific examples from her past work experience that demonstrate her technical skills, problem-solving abilities, and leadership qualities.\n",
            "2. She should also practice articulating her career goals and how the role she is applying for aligns with these goals.\n",
            "3. Jane could also research more about the company and the role to better tailor her answers to the company's needs and expectations.\n"
          ]
        }
      ]
    }
  ]
}